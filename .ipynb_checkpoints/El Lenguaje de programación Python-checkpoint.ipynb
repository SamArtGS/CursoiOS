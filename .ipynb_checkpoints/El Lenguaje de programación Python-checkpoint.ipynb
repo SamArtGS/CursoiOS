{
 "cells": [
  {
   "cell_type": "markdown",
   "metadata": {},
   "source": [
    "# El lenguaje de programación Python - Curso para profesores 🐍"
   ]
  },
  {
   "cell_type": "markdown",
   "metadata": {},
   "source": [
    " **<div style=\"text-align: right\"> Samuel Arturo Garrido Sánchez</div>**"
   ]
  },
  {
   "cell_type": "code",
   "execution_count": 2,
   "metadata": {},
   "outputs": [
    {
     "name": "stdout",
     "output_type": "stream",
     "text": [
      "Hola n!\n"
     ]
    }
   ],
   "source": [
    "print(\"Hola n!\")  #Es costumbre entre los programadores\n",
    "#(Postdata, esto es un comentario)"
   ]
  },
  {
   "cell_type": "markdown",
   "metadata": {},
   "source": [
    "Python es un lenguaje de programación **multiparadigma**, muy útil para demasiadas ramas de la investigación, desarrollos y procesos. \n",
    "Su filosofía radica en un código legible que cualquier persona no enfocada en el área de programación, pueda comprender."
   ]
  },
  {
   "cell_type": "markdown",
   "metadata": {},
   "source": [
    "![](let.png)"
   ]
  },
  {
   "cell_type": "markdown",
   "metadata": {},
   "source": [
    "## Ejemplos de uso de Python"
   ]
  },
  {
   "cell_type": "markdown",
   "metadata": {},
   "source": [
    "### Álgebra: Solución a un sistema de ecuaciones"
   ]
  },
  {
   "cell_type": "markdown",
   "metadata": {},
   "source": [
    "Podemos usar Python para encontrar la solución a un sistema de ecuaciones.\n",
    "\n",
    "Tenemos el siguiente sistema de ecuaciones:\n",
    "\n",
    "$$ 2x + y - 3z = 7 $$\n",
    "$$ 5x - 4y + z = -19  $$\n",
    "$$ x - y - 4z = 4 $$\n",
    "\n",
    "Buscaremos la solución del sistema a través de python con uso de matrices."
   ]
  },
  {
   "cell_type": "code",
   "execution_count": 6,
   "metadata": {},
   "outputs": [
    {
     "name": "stdout",
     "output_type": "stream",
     "text": [
      "El resultado es: \n",
      " [[-1.]\n",
      " [ 3.]\n",
      " [-2.]]\n"
     ]
    }
   ],
   "source": [
    "import numpy as np                            #Importar una biblioteca\n",
    "A = np.matrix([[2,1,-3],[5,-4,1],[1,-1,-4]])  #Matriz A\n",
    "B = np.matrix([[7],[-19],[4]])                #Matriz B\n",
    "X = A**(-1)*B                                 #Inversa de matriz A por B\n",
    "print(\"El resultado es: \\n\",X)                #Impresión de la solución"
   ]
  },
  {
   "cell_type": "markdown",
   "metadata": {},
   "source": [
    "### Crear ventanas: Interfaz gráfica"
   ]
  },
  {
   "cell_type": "markdown",
   "metadata": {},
   "source": [
    "Podemos importar Tkinter que nos permite la creación de entornos gráficos tales como botones, ventanas, textfields, etc, aunque tendremos que definir desde lo que contendrán éstos elementos hasta su posición x, y."
   ]
  },
  {
   "cell_type": "code",
   "execution_count": 7,
   "metadata": {},
   "outputs": [],
   "source": [
    "from tkinter import *\n",
    "\n",
    "def MainVentana(): #Esto es una función\n",
    "    primerVentana=Tk()\n",
    "    primerVentana.geometry(\"700x700+50+50\") \n",
    "    primerVentana.mainloop()\n",
    "\n",
    "MainVentana()"
   ]
  },
  {
   "cell_type": "markdown",
   "metadata": {},
   "source": [
    "### Buscador de palabras: Expresiones regulares"
   ]
  },
  {
   "cell_type": "markdown",
   "metadata": {},
   "source": [
    "Dentro del mundo del big data y minería de datos, la búsqueda de elementos dentro de grandes archivos es escencial. RE se encarga de esto."
   ]
  },
  {
   "cell_type": "code",
   "execution_count": 8,
   "metadata": {},
   "outputs": [
    {
     "name": "stdout",
     "output_type": "stream",
     "text": [
      "<re.Match object; span=(34, 40), match='magica'>\n",
      "None\n"
     ]
    }
   ],
   "source": [
    "import re\n",
    "texto = \"En esta cadena existe una palabra magica\"\n",
    "print(re.search(\"magica\",texto))\n",
    "print(re.search(\"hola\",texto))\n",
    "\n",
    "\n",
    "# Match en palabras dentro de Strings"
   ]
  },
  {
   "cell_type": "markdown",
   "metadata": {},
   "source": [
    "### Gráficas"
   ]
  },
  {
   "cell_type": "markdown",
   "metadata": {},
   "source": [
    "Para el área de ciencias e ingenierías, los grafos son instrumentos escenciales para poder dar una interpretación de imagen a un fenómeno, de esta manera, la mente humana pueda analizar mejor dicha información."
   ]
  },
  {
   "cell_type": "code",
   "execution_count": 8,
   "metadata": {
    "scrolled": true
   },
   "outputs": [
    {
     "name": "stdout",
     "output_type": "stream",
     "text": [
      "Gráfica de f(x) = x^2\n"
     ]
    },
    {
     "data": {
      "image/png": "[encoded data removed]",
      "text/plain": [
       "<Figure size 432x288 with 1 Axes>"
      ]
     },
     "metadata": {
      "needs_background": "light"
     },
     "output_type": "display_data"
    }
   ],
   "source": [
    "from matplotlib import pyplot\n",
    "\n",
    "def f(x):\n",
    "    y = x**2\n",
    "    return y\n",
    "\n",
    "x = range(-10,11)\n",
    "pyplot.plot(x, [f(i) for i in x])\n",
    "print(\"Gráfica de f(x) = x^2\")\n",
    "pyplot.show()"
   ]
  },
  {
   "cell_type": "markdown",
   "metadata": {},
   "source": [
    "## Python es usado para muchísimas otras cosas como: "
   ]
  },
  {
   "cell_type": "markdown",
   "metadata": {},
   "source": [
    "* Creación de modelos predictivos (Machine Learning).\n",
    "* Creación de Sockets (comunicación entre computadores).\n",
    "* Creación del backend de páginas web junto con php.\n",
    "* Inteligencia Artificial\n",
    "* Realizar simulaciones de fenómenos físicos\n",
    "* Scripts que ayudan al funcionamiento de muchos programas que usamos (Mac OS tiene Python 2.7 de fábrica)\n",
    "* **Y mucho, muuuuchooo más**"
   ]
  },
  {
   "cell_type": "markdown",
   "metadata": {},
   "source": [
    "\n",
    "\n",
    "# <center> 🖥   ¿Qué esperamos?   🖍 </center>"
   ]
  },
  {
   "cell_type": "markdown",
   "metadata": {},
   "source": [
    "## Tipos de \"datos\" - (objetos)"
   ]
  },
  {
   "cell_type": "markdown",
   "metadata": {},
   "source": [
    "En Python, todas las variables son objetos. Este objeto, que reside en algún lugar de la memoria, posee un identificador único que lo diferencia del resto de los objetos. Piensa en él como si fuera su DNI (es, en realidad, la dirección de memoria en la que reside el objeto). Para conocer ese identificador, Python dispone de la función id()."
   ]
  },
  {
   "cell_type": "code",
   "execution_count": 9,
   "metadata": {},
   "outputs": [
    {
     "data": {
      "text/plain": [
       "4721822432"
      ]
     },
     "execution_count": 9,
     "metadata": {},
     "output_type": "execute_result"
    }
   ],
   "source": [
    "numero = 6.989796967 \n",
    "id(numero)\n",
    "#print(id(numero))"
   ]
  },
  {
   "cell_type": "markdown",
   "metadata": {},
   "source": [
    "**Al contrario de otros lenguajes de programación como Java, no es necesario declarar el tipo de variable que se crea.**"
   ]
  },
  {
   "cell_type": "markdown",
   "metadata": {},
   "source": [
    "Los tipos de datos primitivos no existen como tal en Python, sin embargo podemos saber el tipo de dato que contiene una variable con el método type(dato)"
   ]
  },
  {
   "cell_type": "code",
   "execution_count": 10,
   "metadata": {},
   "outputs": [
    {
     "name": "stdout",
     "output_type": "stream",
     "text": [
      "5\n"
     ]
    },
    {
     "data": {
      "text/plain": [
       "int"
      ]
     },
     "execution_count": 10,
     "metadata": {},
     "output_type": "execute_result"
    }
   ],
   "source": [
    "# Los enteros\n",
    "opcion = 5\n",
    "print(opcion)\n",
    "type(opcion)"
   ]
  },
  {
   "cell_type": "markdown",
   "metadata": {},
   "source": [
    "Una cadena o String es un tipo de dato que guarda una oración o conjunto de letras, símbolos y números para tratarlo como uno solo. En C en cambio un \"String\" en realidad es un arreglo de caracteres."
   ]
  },
  {
   "cell_type": "code",
   "execution_count": 11,
   "metadata": {
    "scrolled": true
   },
   "outputs": [
    {
     "name": "stdout",
     "output_type": "stream",
     "text": [
      "Hola\n",
      "Las saladitas son horneadas\n"
     ]
    }
   ],
   "source": [
    "saludo = str(\"Hola\")\n",
    "print(saludo)\n",
    "saludo1 = \"Las saladitas son horneadas\"\n",
    "print(saludo1)"
   ]
  },
  {
   "cell_type": "code",
   "execution_count": 12,
   "metadata": {},
   "outputs": [
    {
     "name": "stdout",
     "output_type": "stream",
     "text": [
      "Un automóvil se movió 1135.67 metros en 140.86 segundos. Calcule su velocidad\n",
      "\n",
      " \t La velocidad del automóvil fue: 8.062402385347154 m/s\n"
     ]
    }
   ],
   "source": [
    "#Floats\n",
    "enunciado = \"Un automóvil se movió 1135.67 metros en 140.86 segundos. Calcule su velocidad\"\n",
    "\n",
    "distancia = 1135.67\n",
    "tiempo = 140.86 \n",
    "\n",
    "velocidad = distancia/tiempo\n",
    "\n",
    "print(enunciado)\n",
    "print(\"\\n \\t La velocidad del automóvil fue:\",velocidad,\"m/s\")"
   ]
  },
  {
   "cell_type": "markdown",
   "metadata": {},
   "source": [
    "### Operadores y comparadores matemáticos"
   ]
  },
  {
   "cell_type": "markdown",
   "metadata": {},
   "source": [
    "Dentro de la programación existe mucha lógica. Varios elementos de comparación en matemáticas como lo es <, >, ≤, ≥, ≠(!=), o algún método dentro de los objetos tienen la función de devolver un elemento **BOOLEANO** (BOOLEANO: TRUE OR FALSE). Nos devuelve este booleano para determinar si es cierto o falso el enunciado del código."
   ]
  },
  {
   "cell_type": "code",
   "execution_count": 68,
   "metadata": {},
   "outputs": [
    {
     "name": "stdout",
     "output_type": "stream",
     "text": [
      "11\n",
      "1\n",
      "30\n",
      "1.2\n",
      "\n",
      "\n",
      "1\n",
      "\n",
      "\n",
      "False\n",
      "True\n",
      "False\n",
      "False\n",
      "True\n",
      "False\n"
     ]
    }
   ],
   "source": [
    "a+b\n",
    "\n",
    "\n",
    "a = 6\n",
    "b = 5\n",
    "c = 5\n",
    "print(a+b)\n",
    "print(a-b)\n",
    "print(a*b)\n",
    "print(a/b)\n",
    "print(\"\\n\")\n",
    "print(a%b) #ESTO encuentra el residuo de la división o la congruencia de un número con un módulo\n",
    "\n",
    "print(\"\\n\")\n",
    "print(a == b) # un signo = significa asignación, == doble significa preguntar si son iguales a python\n",
    "print(b == c)\n",
    "print(a<5) #a es menor que 5\n",
    "print(b>c)\n",
    "print(c!=6)\n",
    "\n",
    "# No solamente se pueden comparar números\n",
    "\n",
    "texto1 = \"Hola, ¿qué tal?\"\n",
    "texto2 = \"Hola, qué tal?\"\n",
    "print(texto1 == texto2)\n"
   ]
  },
  {
   "cell_type": "code",
   "execution_count": 13,
   "metadata": {},
   "outputs": [
    {
     "name": "stdout",
     "output_type": "stream",
     "text": [
      "Yeih! 😁\n"
     ]
    }
   ],
   "source": [
    "# Booleanos\n",
    "\n",
    "#Ejercicio: Quitar la variable de \"puedoSalirAlCine\" pero obtener el mismo resultado\n",
    "\n",
    "puedoSalirAlCine = bool() # ¿Por qué no viene al caso hacer ésto?\n",
    "\n",
    "tareas = 8 # Un control de flujo if/else -> próxima clase\n",
    "if tareas < 8:\n",
    "    puedoSalirAlCine = False\n",
    "else:\n",
    "    puedoSalirAlCine = True\n",
    "\n",
    "if puedoSalirAlCine:\n",
    "    print(\"Yeih! 😁\")\n",
    "else:\n",
    "    print(\"No yeih ☹️\")"
   ]
  },
  {
   "cell_type": "markdown",
   "metadata": {},
   "source": [
    "**<center>¿Y cómo ingreso elementos a la ejecución (a manera de Scanner)? </center>**"
   ]
  },
  {
   "cell_type": "code",
   "execution_count": 15,
   "metadata": {
    "scrolled": true
   },
   "outputs": [
    {
     "name": "stdout",
     "output_type": "stream",
     "text": [
      "Ingrese un número: 1\n",
      "✌️\n",
      "🖖\n"
     ]
    }
   ],
   "source": [
    "seleccion = int(input(\"Ingrese un número: \")) # ¿Por qué el int al principio? Pista: String\n",
    "if seleccion == 1:\n",
    "    print(\"✌️\")\n",
    "if seleccion == 2:\n",
    "    print(\"🤟\")\n",
    "else:\n",
    "    print(\"🖖\")"
   ]
  },
  {
   "cell_type": "markdown",
   "metadata": {},
   "source": [
    "## Colecciones"
   ]
  },
  {
   "cell_type": "markdown",
   "metadata": {},
   "source": [
    "### Mutabilidad"
   ]
  },
  {
   "cell_type": "markdown",
   "metadata": {},
   "source": [
    "La mutabilidad radica si un elemento dentro de un objeto o el objeto mismo puede cambiar algún atributo que posea. Si es mutable, podemos hacer el cambio, en caso contrario recibiremos un error."
   ]
  },
  {
   "cell_type": "markdown",
   "metadata": {},
   "source": [
    "### Listas"
   ]
  },
  {
   "cell_type": "markdown",
   "metadata": {},
   "source": [
    "Son colecciones de elementos que permiten la mutabilidad de elementos. Existen una serie de funciones que nos permiten interactuar con una lista. Para una función solo agregamos a la lista un punto, seguido de la función y sus parámetros.     **lista.funcion(parámetro)**"
   ]
  },
  {
   "cell_type": "markdown",
   "metadata": {},
   "source": [
    "**Métodos importantes:**  append(x), insert(i, x), remove(x), pop( ), clear( ), index(x), count(x), sort( ), len( )*"
   ]
  },
  {
   "cell_type": "markdown",
   "metadata": {},
   "source": [
    "**<center> Actividad: ¿Para qué sirve cada uno? </center>** "
   ]
  },
  {
   "cell_type": "code",
   "execution_count": 16,
   "metadata": {},
   "outputs": [
    {
     "name": "stdout",
     "output_type": "stream",
     "text": [
      "[4, 8, 16, 43, 23, 300, 29, 44, 76, 65]\n",
      "[4, 8, 16, 43, 23, 300, 29, 44, 76, 65, 8]\n",
      "[4, 8, 43, 23, 300, 29, 44, 76, 65, 8]\n",
      "4\n",
      "[4, 8, 8, 23, 29, 43, 44, 65, 76, 300]\n"
     ]
    }
   ],
   "source": [
    "lista = [4, 8, 16, 43, 23, 300, 29, 44, 76, 65]\n",
    "\n",
    "print(lista)\n",
    "\n",
    "lista.append(8)\n",
    "print(lista)\n",
    "\n",
    "lista.remove(16)\n",
    "print(lista)\n",
    "\n",
    "print(lista.index(300))\n",
    "\n",
    "lista.sort()\n",
    "print(lista)"
   ]
  },
  {
   "cell_type": "code",
   "execution_count": 17,
   "metadata": {},
   "outputs": [
    {
     "name": "stdout",
     "output_type": "stream",
     "text": [
      "General\n",
      "False\n",
      "[1, 2, 4]\n",
      "1\n"
     ]
    }
   ],
   "source": [
    "# ¿Se podrá hacer una lista de elementos múltiples?\n",
    "\n",
    "otraLista = [\"Hola\",99.44,0,\"General\",False,[1,2,4]]\n",
    "\n",
    "print(otraLista[3])\n",
    "print(otraLista[4])\n",
    "print(otraLista[5])\n",
    "\n",
    "print(otraLista[5][0])"
   ]
  },
  {
   "cell_type": "markdown",
   "metadata": {},
   "source": [
    "Como **TODO** es un objeto en Python en teoría la lista contiene elementos del mismo tipo: Objetos con diferentes parámetros. Por lo tanto es posible una lista con diferentes tipos de datos."
   ]
  },
  {
   "cell_type": "markdown",
   "metadata": {},
   "source": [
    "### Tuplas"
   ]
  },
  {
   "cell_type": "markdown",
   "metadata": {},
   "source": [
    "Como las listas, las tuplas siguen la misma estructura. Son idénticas a las listas pero con una pequeña excepción: No son mutables. Si tratamos de cambiar algún elemento por otro o eliminar, nos marcará un error."
   ]
  },
  {
   "cell_type": "code",
   "execution_count": 21,
   "metadata": {},
   "outputs": [
    {
     "name": "stdout",
     "output_type": "stream",
     "text": [
      "53\n"
     ]
    }
   ],
   "source": [
    "tupla = (16,53,23,76,98,43,56,99,77,21,32) #Se usan paréntesis en lugar de corchetes\n",
    "print(tupla[1])"
   ]
  },
  {
   "cell_type": "markdown",
   "metadata": {},
   "source": [
    "Los errores generados son gracias a que queríamos modificar una tupla la cual no permite la asignación o no tiene el  método pop o similares que modifican a la misma. Podemos probar los métodos que no manipulen su estructura."
   ]
  },
  {
   "cell_type": "code",
   "execution_count": 24,
   "metadata": {},
   "outputs": [
    {
     "name": "stdout",
     "output_type": "stream",
     "text": [
      "7\n"
     ]
    }
   ],
   "source": [
    "print(tupla.index(99))"
   ]
  },
  {
   "cell_type": "markdown",
   "metadata": {},
   "source": [
    "**Y a todo ésto... ¿Para qué necesitamos tuplas si tenemos listas?**"
   ]
  },
  {
   "cell_type": "code",
   "execution_count": 25,
   "metadata": {},
   "outputs": [
    {
     "name": "stdout",
     "output_type": "stream",
     "text": [
      "[1, 2, 3, 4, 5]\n"
     ]
    }
   ],
   "source": [
    "x = [1,2,3,4,5]\n",
    "y = x\n",
    "print(y)"
   ]
  },
  {
   "cell_type": "code",
   "execution_count": 26,
   "metadata": {
    "scrolled": true
   },
   "outputs": [
    {
     "name": "stdout",
     "output_type": "stream",
     "text": [
      "[10, 2, 3, 4, 5]\n"
     ]
    }
   ],
   "source": [
    "x[0] = 10\n",
    "print(y)"
   ]
  },
  {
   "cell_type": "code",
   "execution_count": 27,
   "metadata": {},
   "outputs": [
    {
     "data": {
      "text/plain": [
       "True"
      ]
     },
     "execution_count": 27,
     "metadata": {},
     "output_type": "execute_result"
    }
   ],
   "source": [
    "id(x) == id(y)"
   ]
  },
  {
   "cell_type": "code",
   "execution_count": 28,
   "metadata": {},
   "outputs": [
    {
     "name": "stdout",
     "output_type": "stream",
     "text": [
      "[10, 50, 3, 4, 5]\n",
      "(1, 2, 3, 4, 5)\n",
      "(1, 2, 3, 4, 5)\n"
     ]
    }
   ],
   "source": [
    "z = (1,2,3,4,5)\n",
    "y = z\n",
    "x[1] = 50\n",
    "print(x)\n",
    "print(y)\n",
    "print(z)"
   ]
  },
  {
   "cell_type": "markdown",
   "metadata": {},
   "source": [
    "### Diccionarios"
   ]
  },
  {
   "cell_type": "markdown",
   "metadata": {},
   "source": [
    "Los diccionarios son lo equivalente a tablas Hash, a cada llave se le asigna un valor. De manera sencilla podemos dar un ejemplo: Tenemos un buró con muchos cajones, en los cajones podemos guardar cosas que en este caso serán variables y cuando queramos buscar una crema en el buró, naturalmente tendremos qué saber en qué cajón está. Los cajones tienen una referencia (el cajón de abajo por ejemplo) y en el caso de los diccionarios, las llaves son los cajones y guardan variables."
   ]
  },
  {
   "cell_type": "code",
   "execution_count": 29,
   "metadata": {},
   "outputs": [],
   "source": [
    "miDiccionario = {1:[4,5],2:[6,7.]}\n",
    "otroDiccionario = {\"x\":\"y\",    \"p\":[\"q\",\"r\"],    5:False,    True:[5,\"Hola\",False]}"
   ]
  },
  {
   "cell_type": "code",
   "execution_count": 30,
   "metadata": {},
   "outputs": [
    {
     "name": "stdout",
     "output_type": "stream",
     "text": [
      "[6, 7.0]\n"
     ]
    }
   ],
   "source": [
    "print(miDiccionario[2])"
   ]
  },
  {
   "cell_type": "code",
   "execution_count": 31,
   "metadata": {},
   "outputs": [
    {
     "name": "stdout",
     "output_type": "stream",
     "text": [
      "[5, 'Hola', False]\n"
     ]
    }
   ],
   "source": [
    "print(otroDiccionario[True])"
   ]
  },
  {
   "cell_type": "code",
   "execution_count": 32,
   "metadata": {
    "scrolled": true
   },
   "outputs": [
    {
     "name": "stdout",
     "output_type": "stream",
     "text": [
      "q\n"
     ]
    }
   ],
   "source": [
    "print(otroDiccionario[\"p\"][0]) ## para ir por el elemento dentro del arreglo."
   ]
  },
  {
   "cell_type": "markdown",
   "metadata": {},
   "source": [
    "Como podemos ver, se hace una colección de elementos para podernos referirnos a éstos más adelante por otro nombre o con una llave.\n",
    "\n",
    "**Hasta éste momento:**"
   ]
  },
  {
   "cell_type": "markdown",
   "metadata": {},
   "source": [
    "## <center> [ ] corchetes para listas -> mutable</center>"
   ]
  },
  {
   "cell_type": "markdown",
   "metadata": {},
   "source": [
    "## <center> ( ) paréntesis para tuplas -> inmutable </center>"
   ]
  },
  {
   "cell_type": "markdown",
   "metadata": {},
   "source": [
    "## <center> { } llaves para diccionarios -> cajones </center>"
   ]
  },
  {
   "cell_type": "markdown",
   "metadata": {},
   "source": [
    " "
   ]
  },
  {
   "cell_type": "markdown",
   "metadata": {},
   "source": [
    "# <center> 🤨 ¿DUDAS? 👀</center>"
   ]
  },
  {
   "cell_type": "markdown",
   "metadata": {},
   "source": [
    "## Controles de flujo"
   ]
  },
  {
   "cell_type": "markdown",
   "metadata": {},
   "source": [
    "### Condicionales: if, else, elif"
   ]
  },
  {
   "cell_type": "markdown",
   "metadata": {},
   "source": [
    "Los condicionales son sencillos, pero importantísimos en el mundo de la programación, ya que con ellos podemos comparar los elementos que tengamos dentro de nuestro algoritmo. Es más difícil hacer el análisis previo de qué queremos discriminar."
   ]
  },
  {
   "cell_type": "markdown",
   "metadata": {},
   "source": [
    "Los condicionales trabajan sobre una afirmación o negación, o sea booleanos. Dentro de los condicionales hacemos la pregunta si éstos elementos son iguales (también si son distintos), si contiene a algún elemento exacto, etc. Preguntas cerradas **(Sí o no)**"
   ]
  },
  {
   "cell_type": "code",
   "execution_count": 52,
   "metadata": {},
   "outputs": [
    {
     "name": "stdout",
     "output_type": "stream",
     "text": [
      " IFAI: Instituto de Información y de Acceso a la Opinión Pública de toda la Información Disponible para la Ciudadanía\n"
     ]
    }
   ],
   "source": [
    "if 5<1:\n",
    "    print(\"Estamos como a 1 minuto, no menos, como a 5 minutos\")\n",
    "else:\n",
    "    print(\" IFAI: Instituto de Información y de Acceso a la Opinión Pública de toda la Información Disponible para la Ciudadanía\")"
   ]
  },
  {
   "cell_type": "markdown",
   "metadata": {},
   "source": [
    "Los condicionales múltiples van tratando con todos los casos hasta que sea afirmativo."
   ]
  },
  {
   "cell_type": "code",
   "execution_count": 63,
   "metadata": {},
   "outputs": [
    {
     "name": "stdout",
     "output_type": "stream",
     "text": [
      "Laura se encuentra en la posición:  0\n",
      "['Laura', 'Samuel', 'Otro', 'Hola', 'Fulano']\n"
     ]
    }
   ],
   "source": [
    "profesores = [\"Laura\",\"Samuel\",\"Otro\",\"Hola\"]\n",
    "if profesores[0] == \"Laura\":\n",
    "    print(\"Laura se encuentra en la posición: \",profesores.index(\"Laura\"))\n",
    "if len(profesores) == 3:\n",
    "    print(\"Hay 3 profesores en el curso\")\n",
    "else:\n",
    "    profesores.append(\"Fulano\")\n",
    "    print(profesores)"
   ]
  },
  {
   "cell_type": "markdown",
   "metadata": {},
   "source": [
    "## ¿Y el SWITCH? (Quiero uno para mi cumpleaños 😦)"
   ]
  },
  {
   "cell_type": "markdown",
   "metadata": {},
   "source": [
    "![](ee.jpeg)"
   ]
  },
  {
   "cell_type": "markdown",
   "metadata": {},
   "source": [
    "### Dentro de Python no existe como tal un switch que vaya comparando, en su lugar tenemos elif"
   ]
  },
  {
   "cell_type": "markdown",
   "metadata": {},
   "source": [
    "Este nos permite determinar los casos y no probar cada uno. Un if normal tendríamos que darle varias repasadas si de un arreglo se tratara."
   ]
  },
  {
   "cell_type": "code",
   "execution_count": 73,
   "metadata": {},
   "outputs": [
    {
     "name": "stdout",
     "output_type": "stream",
     "text": [
      "12\n"
     ]
    }
   ],
   "source": [
    "arreglo = [1,2,3,4,5]\n",
    "if arreglo[1]*arreglo[2] == 2:\n",
    "    print(2)\n",
    "elif arreglo[3]*arreglo[2] == 12:\n",
    "    print(12)\n",
    "elif arreglo[1]*arreglo[3] == 8: # ¿Qué pasaría si reemplazo elif por if?\n",
    "    print(8)\n",
    "else:\n",
    "    print(0)"
   ]
  },
  {
   "cell_type": "markdown",
   "metadata": {},
   "source": [
    "## Ciclos"
   ]
  },
  {
   "cell_type": "markdown",
   "metadata": {},
   "source": [
    "Los ciclos nos permiten hacer repeticiones de procesos dentro de un rango que nosotros determinemos. Esto es útil para NO hacer cada uno de los procesos, por lo que haríamos líneas de código innecesarias. (Además, ¡qué flojera!)"
   ]
  },
  {
   "cell_type": "markdown",
   "metadata": {},
   "source": [
    "### Ciclo for (para cada)"
   ]
  },
  {
   "cell_type": "markdown",
   "metadata": {},
   "source": [
    "Los ciclos for en python funcionan tienen una estructura algo distinta en Python que por ejemplo C o Java. Para poder utilizarlo tendremos que hacer uso de la palabra reservada **in** y luego a decisión,\n",
    "\n",
    "La función range() nos devuelve un arreglo de números.\n",
    "\n",
    "Si range(x) le insertamos solo 1 parámetro, **\"x\"** simboliza el punto de llegada -1 desde 0 de 1 en 1.\n",
    "\n",
    "Si a range(x,y) le insertamos 2 parámetros, **\"x\"** simboliza el punto de partida y **\"y\"** el punto de llegada -1 y va contando de 1 en 1 hasta llegar.\n",
    "\n",
    "Si a range(x,y,z) le insertamos 3 parámetros, **\"x\"** simboliza el punto de partida, **\"y\"** el punto de llegada -1 y z de cuanto en cuánto va salteando."
   ]
  },
  {
   "cell_type": "code",
   "execution_count": 103,
   "metadata": {},
   "outputs": [
    {
     "name": "stdout",
     "output_type": "stream",
     "text": [
      "[1, 4, 6, 8, 1, 2, 3]\n"
     ]
    }
   ],
   "source": [
    "jaja = [1,4,6,8]\n",
    "jaja.append(1)\n",
    "jaja.append(2)\n",
    "jaja.append(3)\n",
    "print(jaja)"
   ]
  },
  {
   "cell_type": "code",
   "execution_count": 113,
   "metadata": {},
   "outputs": [
    {
     "name": "stdout",
     "output_type": "stream",
     "text": [
      "0\n",
      "1\n",
      "2\n",
      "3\n",
      "4\n",
      "5\n",
      "6\n",
      "7\n",
      "8\n",
      "9\n",
      "\n",
      "\n",
      "-10\n",
      "-9\n",
      "-8\n",
      "-7\n",
      "-6\n",
      "-5\n",
      "-4\n",
      "-3\n",
      "-2\n",
      "-1\n",
      "0\n",
      "1\n",
      "2\n",
      "3\n",
      "4\n",
      "5\n",
      "6\n",
      "7\n",
      "8\n",
      "9\n",
      "\n",
      "\n",
      "-10\n",
      "-8\n",
      "-6\n",
      "-4\n",
      "-2\n",
      "0\n",
      "2\n",
      "4\n",
      "6\n",
      "8\n"
     ]
    }
   ],
   "source": [
    "a = range(10)\n",
    "b = range(-10,10)\n",
    "c = range(-10,10,2)\n",
    "\n",
    "for i in a:\n",
    "    print(i)\n",
    "print(\"\\n\")\n",
    "for i in b:\n",
    "    print(i)\n",
    "print(\"\\n\")\n",
    "for i in c:\n",
    "    print(i)"
   ]
  },
  {
   "cell_type": "markdown",
   "metadata": {},
   "source": [
    "Los ciclos for responden a range() y a una colección (lista, tupla o diccionario) para que sea recorrido. No es necesario colocar contadores adicionales."
   ]
  },
  {
   "cell_type": "code",
   "execution_count": 114,
   "metadata": {},
   "outputs": [
    {
     "name": "stdout",
     "output_type": "stream",
     "text": [
      "1\n",
      "5\n",
      "9\n",
      "2\n",
      "6\n",
      "9\n",
      "0\n"
     ]
    }
   ],
   "source": [
    "for i in [1,5,9,2,6,9,0]:\n",
    "    print(i)"
   ]
  },
  {
   "cell_type": "code",
   "execution_count": 115,
   "metadata": {
    "scrolled": true
   },
   "outputs": [
    {
     "name": "stdout",
     "output_type": "stream",
     "text": [
      "[1, 4, 6, 8, 0, 1, 2]\n"
     ]
    }
   ],
   "source": [
    "jaja2 = [1,4,6,8]\n",
    "for i in range(0,3,1): # ¿Cómo modifico ésto para que sea más sencillo?\n",
    "    jaja2.append(i)\n",
    "print(jaja2)"
   ]
  },
  {
   "cell_type": "markdown",
   "metadata": {},
   "source": [
    "## Creación de Objetos en Python"
   ]
  },
  {
   "cell_type": "code",
   "execution_count": 1,
   "metadata": {},
   "outputs": [
    {
     "name": "stdout",
     "output_type": "stream",
     "text": [
      "5\n"
     ]
    }
   ],
   "source": [
    "class MyClass:\n",
    "    x = 5\n",
    "p1 = MyClass()\n",
    "print(p1.x)"
   ]
  },
  {
   "cell_type": "markdown",
   "metadata": {},
   "source": [
    "## Ligadura con base de datos"
   ]
  },
  {
   "cell_type": "code",
   "execution_count": null,
   "metadata": {},
   "outputs": [],
   "source": [
    "import sqlite3\n",
    "from tkinter import *\n",
    "from tkinter import messagebox as tkMessageBox\n",
    "\n",
    "Base = sqlite3.connect(\"Contacts.db\")\n",
    "\n",
    "cursor = conexion.cursor()\n",
    "#Crear la tabla con cada uno de los atributos\n",
    "try:\n",
    "\tcursor.execute(\"\"\"CREATE TABLE sucursales (id INTEGER PRIMARY KEY , delegacion TEXT, telefono INTEGER, gerente TEXT)\"\"\")\n",
    "\tcursor.execute(\"\"\"INSERT INTO sucursales VALUES(1,\"Coyoacán\",556442312,\"Juan Lopez\")\"\"\")\n",
    "\tcursor.execute(\"\"\"INSERT INTO sucursales VALUES(2,\"Coyoacán\",524343323,\"Jorge Cardenas\")\"\"\")\n",
    "\tcursor.execute(\"\"\"INSERT INTO sucursales VALUES(3,\"Coyoacán\",435423423,\"David Alejandro\")\"\"\")\n",
    "\tcursor.execute(\"\"\"INSERT INTO sucursales VALUES(4,\"Coyoacán\",643523234,\"Daniel Ernesto\")\"\"\")\n",
    "\tcursor.execute(\"SELECT * FROM sucursales\")\n",
    "\tresultados = cursor.fetchall()\n",
    "\tprint(resultados)\n",
    "\n",
    "\tcursor.execute(\"\"\"UPDATE sucursales SET gerente = \"Pedro Díaz\" WHERE id = 3\"\"\")\n",
    "\tconexion.commit()\n",
    "\n",
    "\tcursor.execute(\"\"\"DELETE FROM sucursal WHERE id=4\"\"\")\n",
    "\tresultados = cursor.fetchall()\n",
    "\tresultados(resultados)\n",
    "except:\n",
    "\tcursor.execute('''DROP TABLE sucursales''')"
   ]
  },
  {
   "cell_type": "markdown",
   "metadata": {},
   "source": [
    "Para poder acceder a los elementos dentro de la base de datos podemos utilizar un complemento de SQLite. Primero necesitamos conectarnos a la base y luego con comandos SQL podemos agregar valores, crear tablas y eliminarlas. Podemos ver un bloque Try Catch aquí."
   ]
  },
  {
   "cell_type": "markdown",
   "metadata": {},
   "source": [
    "## Programación modular y funcional"
   ]
  },
  {
   "cell_type": "code",
   "execution_count": null,
   "metadata": {},
   "outputs": [],
   "source": [
    "def Mostrar_Hola():  \n",
    "    print(\"Hola\")\n",
    "Mostrar_Hola()"
   ]
  },
  {
   "cell_type": "markdown",
   "metadata": {},
   "source": [
    "La programación modular es un paradigma de programación que consiste en dividir un programa en módulos o subprogramas con el fin de hacerlo más legible y manejable.  Al  aplicar  la  programación  modular,  un  problema  complejo  debe  ser  dividido  en  varios  subproblemas  más simples, y estos, a su vez, en otros subproblemas más simples."
   ]
  },
  {
   "cell_type": "markdown",
   "metadata": {},
   "source": [
    "## Sockets en Python"
   ]
  },
  {
   "cell_type": "markdown",
   "metadata": {},
   "source": [
    "En python podemos hacer uso de los Sockets para poder recibir o mandar paquetes de información entre dispositivos. Lo que se necesita para abrir un socket es una dirección IP y un puerto. "
   ]
  },
  {
   "cell_type": "markdown",
   "metadata": {},
   "source": [
    "## La parte del Servidor"
   ]
  },
  {
   "cell_type": "code",
   "execution_count": null,
   "metadata": {},
   "outputs": [],
   "source": [
    "import socket  \n",
    "  \n",
    "s = socket.socket()   \n",
    "s.bind((\"localhost\", 9999))  \n",
    "s.listen(1)  \n",
    "  \n",
    "sc, addr = s.accept()  \n",
    "  \n",
    "while True:  \n",
    "      recibido = sc.recv(1024)  \n",
    "      if recibido == \"quit\":  \n",
    "         break        \n",
    "      print \"Recibido:\", recibido  \n",
    "      sc.send(recibido)  \n",
    "  \n",
    "print(\"adios\")  \n",
    "  \n",
    "sc.close()  \n",
    "s.close() "
   ]
  },
  {
   "cell_type": "markdown",
   "metadata": {},
   "source": [
    "## La parte del cliente"
   ]
  },
  {
   "cell_type": "code",
   "execution_count": null,
   "metadata": {},
   "outputs": [],
   "source": [
    "import socket  \n",
    "  \n",
    "s = socket.socket()   \n",
    "s.connect((\"localhost\", 9999))  \n",
    "  \n",
    "while True:  \n",
    "      mensaje = raw_input(\"> \")  \n",
    "      s.send(mensaje)  \n",
    "      if mensaje == \"quit\":  \n",
    "         break  \n",
    "  \n",
    "print \"adios\"  \n",
    "  \n",
    "s.close() "
   ]
  },
  {
   "cell_type": "markdown",
   "metadata": {},
   "source": [
    "## Ejemplo de métodos numéricos"
   ]
  },
  {
   "cell_type": "markdown",
   "metadata": {},
   "source": [
    "**<span style=\"color:red\"> ** IMPORTANTE ** </span>**\n",
    "\n",
    "Para escribir una ecuación tienes que separar todo y multiplicar con \\*:  \n",
    "f=2x+3 ❌     \n",
    "f = 2*x + 3 ✅\n",
    "\n",
    "Para poner una potencia por ejemplo $2^3$ es poniendo doble asterísco. Ejemplo:\n",
    "$$f(x) = x^2 + 2x +1$$\n",
    "*Equivale a:*"
   ]
  },
  {
   "cell_type": "markdown",
   "metadata": {},
   "source": [
    "#### Si quieres ejecutar debes hacerlo desde el principio del documento o desde donde empiezas a definir o no te saldrá el resultado. Para ejecutar debes presionar ALT + Enter en tu teclado sobre la celda que vas a interpretar"
   ]
  },
  {
   "cell_type": "code",
   "execution_count": 42,
   "metadata": {},
   "outputs": [],
   "source": [
    "import sympy as sy\n",
    "from sympy.functions import sin,cos\n",
    "import math\n",
    "import matplotlib.pyplot as plt\n",
    "x = sy.symbols('x')\n",
    "def taylor(funcion,c,n):\n",
    "    i = 0\n",
    "    p = 0\n",
    "    while i <= n:\n",
    "        p = p + (funcion.diff(x,i).subs(x,c))/(math.factorial(i))*(x-c)**i\n",
    "        i += 1\n",
    "    return p"
   ]
  },
  {
   "cell_type": "code",
   "execution_count": 43,
   "metadata": {
    "scrolled": true
   },
   "outputs": [
    {
     "name": "stdout",
     "output_type": "stream",
     "text": [
      "El polinomios de Taylor es:  x**4/24 - x**2/2 + 1\n"
     ]
    }
   ],
   "source": [
    "#CAMBIA LA FUNCION, en dónde está alineado taylor (este caso c=0) y cuál es el mayor exponenete que quieres (este es 4)\n",
    "p = taylor(cos(x),0,4)\n",
    "print(\"El polinomios de Taylor es: \",p)"
   ]
  },
  {
   "cell_type": "code",
   "execution_count": 44,
   "metadata": {},
   "outputs": [
    {
     "name": "stdout",
     "output_type": "stream",
     "text": [
      "El valor de taylor es:  0.501796201500181\n"
     ]
    }
   ],
   "source": [
    "#Coloca aquí la evaluación del mismo\n",
    "x=math.pi/3\n",
    "## COLOCA AQUÍ EL RESULTADO DEL ANTERIOR POR AHORA D:\n",
    "VALOROBTENIDO = x**4/24 - x**2/2 + 1\n",
    "print(\"El valor de taylor es: \",VALOROBTENIDO)"
   ]
  },
  {
   "cell_type": "markdown",
   "metadata": {},
   "source": [
    "## Método de bisección 📊"
   ]
  },
  {
   "cell_type": "code",
   "execution_count": 45,
   "metadata": {},
   "outputs": [],
   "source": [
    "# Inserta la ecuación a buscar raíz\n",
    "fx = lambda x: x**2 + 9*x + 4"
   ]
  },
  {
   "cell_type": "code",
   "execution_count": 46,
   "metadata": {},
   "outputs": [],
   "source": [
    "# Inserta tu rango y tolerancia\n",
    "a = -5\n",
    "b = 2\n",
    "tolera = 0.01"
   ]
  },
  {
   "cell_type": "code",
   "execution_count": 47,
   "metadata": {},
   "outputs": [
    {
     "name": "stdout",
     "output_type": "stream",
     "text": [
      "i   a     c    b     f(a)   f(c)  f(b)  toler\n",
      "1 -5.000 -1.500 2.000 -16.000 -7.250 26.000 7.000 \n",
      "2 -1.500 0.250 2.000 -7.250 6.312 26.000 3.500 \n",
      "3 -1.500 -0.625 0.250 -7.250 -1.234 6.312 1.750 \n",
      "4 -0.625 -0.188 0.250 -1.234 2.348 6.312 0.875 \n",
      "5 -0.625 -0.406 -0.188 -1.234 0.509 2.348 0.438 \n",
      "6 -0.625 -0.516 -0.406 -1.234 -0.375 0.509 0.219 \n",
      "7 -0.516 -0.461 -0.406 -0.375 0.064 0.509 0.109 \n",
      "8 -0.516 -0.488 -0.461 -0.375 -0.156 0.064 0.055 \n",
      "9 -0.488 -0.475 -0.461 -0.156 -0.046 0.064 0.027 \n",
      "10 -0.475 -0.468 -0.461 -0.046 0.009 0.064 0.014 \n",
      "11 -0.475 -0.471 -0.468 -0.046 -0.019 0.009 0.007 \n",
      "raiz:  -0.47119140625\n"
     ]
    }
   ],
   "source": [
    "# PROCEDIMIENTO\n",
    "tabla = []\n",
    "tramo = b-a\n",
    "fa = fx(a)\n",
    "fb = fx(b)\n",
    "i = 1\n",
    "while (tramo>tolera):\n",
    "    c = (a+b)/2\n",
    "    fc = fx(c)\n",
    "    tabla.append([i,a,c,b,fa,fc,fb,tramo])\n",
    "    i = i+1\n",
    "                 \n",
    "    cambia = np.sign(fa)*np.sign(fc)\n",
    "    if (cambia<0):\n",
    "        b = c\n",
    "        fb = fc\n",
    "    else:\n",
    "        a=c\n",
    "        fa = fc\n",
    "    tramo = b-a\n",
    "c = (a+b)/2\n",
    "fc = fx(c)\n",
    "tabla.append([i,a,c,b,fa,fc,fb,tramo])\n",
    "tabla = np.array(tabla)\n",
    "raiz = c\n",
    "np.set_printoptions(precision = 4)\n",
    "print('i   a     c    b     f(a)   f(c)  f(b)  toler')\n",
    "n=len(tabla)\n",
    "for i in range(0,n,1):\n",
    "    unafila = tabla[i]\n",
    "    formato = '{:.0f}'+' '+(len(unafila)-1)*'{:.3f} '\n",
    "    unafila = formato.format(*unafila)\n",
    "    print(unafila)\n",
    "print('raiz: ',raiz)"
   ]
  },
  {
   "cell_type": "code",
   "execution_count": null,
   "metadata": {},
   "outputs": [],
   "source": [
    "import scipy.optimize as opt\n",
    "#Inserta tu función\n",
    "f1 = lambda x: x**3 + 4*x**2 - 10\n",
    "# Solo cambia el rango 1,2 y la tolerancia, no cambies el xtol o tronará\n",
    "print(opt.bisect(f1,1,2,xtol=0.001))"
   ]
  },
  {
   "cell_type": "markdown",
   "metadata": {},
   "source": [
    "### Método de Newton Raphson ⭐️"
   ]
  },
  {
   "cell_type": "code",
   "execution_count": 48,
   "metadata": {},
   "outputs": [
    {
     "name": "stdout",
     "output_type": "stream",
     "text": [
      "i\t   xi\t     Error Absoluto Porcentual\n",
      "0 0 100.000000000000\n",
      "1 -1.00000000000000 27.8703862327451\n",
      "2 -0.782041901539138 0.427334129760588\n",
      "3 -0.785398175999702 1.60456876032265e-6\n"
     ]
    }
   ],
   "source": [
    "x=sy.symbols('x')\n",
    "#funcion\n",
    "funcion=sin(x) + cos(x)\n",
    "\n",
    "derivada=sy.diff(funcion,x)\n",
    "\n",
    "x_0=0\n",
    "xr=x_0\n",
    "\n",
    "ea=100/100\n",
    "\n",
    "es=0.001/100\n",
    "contador=-1\n",
    "print(\"i\\t   xi\\t     Error Absoluto Porcentual\")\n",
    "while ea>es:\n",
    "    xra=xr\n",
    "    contador+=1\n",
    "    newton_rhapson=x-(funcion/derivada)\n",
    "\n",
    "    xr=newton_rhapson.evalf(subs={x: xr})\n",
    "    \n",
    "    #error aproximado relativo porcentual\n",
    "    ea=sy.Abs(((xr-xra)/xr)*100)\n",
    "    #resultado\n",
    "    print(contador   ,xra, ea)"
   ]
  },
  {
   "cell_type": "markdown",
   "metadata": {},
   "source": [
    "## Método de la regla falsa."
   ]
  },
  {
   "cell_type": "markdown",
   "metadata": {},
   "source": [
    "El método de regla falsa o interpolación se basa en tener 2 limitantes o rango que sepamos que contienen a la raíz de la función. Su ecuación es:\n",
    "\n",
    "\n",
    "$$r\\in[a,b]$$\n",
    "\n",
    "\n",
    "$$ x_i = \\frac{f(a_i)bi - f(b_i)a_i}{f(a_i)-f(b_i)} $$"
   ]
  },
  {
   "cell_type": "code",
   "execution_count": 49,
   "metadata": {},
   "outputs": [
    {
     "name": "stdout",
     "output_type": "stream",
     "text": [
      "3.6666666666666665\n"
     ]
    }
   ],
   "source": [
    "## Inserte la ecuación aquí\n",
    "x=sy.symbols('x')\n",
    "Px = lambda x: x**2 - 2*x - 10\n",
    "\n",
    "## Fija los rangos de a y b donde buscarán\n",
    "a = 2\n",
    "b = 6\n",
    "tolerancia = 0.1\n",
    "l = (Px(a)*b - Px(b)*a)/(Px(a)-Px(b))\n",
    "print(l)"
   ]
  },
  {
   "cell_type": "code",
   "execution_count": 50,
   "metadata": {},
   "outputs": [],
   "source": [
    "def metodoFalso(f,a,b):\n",
    "    anterior = 0\n",
    "    error = 1\n",
    "    while(error>tolerancia):\n",
    "        l = (Px(a)*b - Px(b)*a)/(Px(a)-Px(b))\n",
    "        "
   ]
  },
  {
   "cell_type": "markdown",
   "metadata": {},
   "source": [
    "# FIN"
   ]
  }
 ],
 "metadata": {
  "kernelspec": {
   "display_name": "Python 3",
   "language": "python",
   "name": "python3"
  },
  "language_info": {
   "codemirror_mode": {
    "name": "ipython",
    "version": 3
   },
   "file_extension": ".py",
   "mimetype": "text/x-python",
   "name": "python",
   "nbconvert_exporter": "python",
   "pygments_lexer": "ipython3",
   "version": "3.7.0"
  }
 },
 "nbformat": 4,
 "nbformat_minor": 2
}
